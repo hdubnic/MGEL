{
 "cells": [
  {
   "cell_type": "markdown",
   "id": "a1e9c765-6da6-41ee-8db6-7360772b701e",
   "metadata": {},
   "source": [
    "## 2017 Near-shore fishing activity"
   ]
  },
  {
   "cell_type": "code",
   "execution_count": 1,
   "id": "6228fd41-bc58-47c7-a382-4e938d0fc647",
   "metadata": {},
   "outputs": [
    {
     "data": {
      "text/plain": [
       "'/home/jovyan'"
      ]
     },
     "execution_count": 1,
     "metadata": {},
     "output_type": "execute_result"
    }
   ],
   "source": [
    "import pandas as pd\n",
    "import geopandas\n",
    "import os\n",
    "os.getcwd()"
   ]
  },
  {
   "cell_type": "code",
   "execution_count": 2,
   "id": "930797d5-4f0e-4b07-9ae1-b824b89a8d70",
   "metadata": {},
   "outputs": [],
   "source": [
    "df = pd.read_csv('combined2017.csv')"
   ]
  },
  {
   "cell_type": "code",
   "execution_count": 3,
   "id": "cccbcc32-e35d-451e-936c-27f715c889d5",
   "metadata": {},
   "outputs": [
    {
     "name": "stdout",
     "output_type": "stream",
     "text": [
      "         date  cell_ll_lat  cell_ll_lon       mmsi   hours  fishing_hours\n",
      "0  2017-01-01          0.0         -2.6  306097000  1.6175         0.0000\n",
      "1  2017-01-01          0.0       -171.5  338539000  0.5444         0.0000\n",
      "2  2017-01-01          0.0       -152.6  359002000  1.3522         0.0000\n",
      "3  2017-01-01          0.0        170.6  367170000  0.3972         0.0000\n",
      "4  2017-01-01          0.0        170.7  367170000  0.6944         0.3891\n"
     ]
    }
   ],
   "source": [
    "print(df.head())"
   ]
  },
  {
   "cell_type": "code",
   "execution_count": 4,
   "id": "930d7720-3968-4eeb-9255-d2414a217409",
   "metadata": {},
   "outputs": [
    {
     "data": {
      "text/plain": [
       "43665527"
      ]
     },
     "execution_count": 4,
     "metadata": {},
     "output_type": "execute_result"
    }
   ],
   "source": [
    "len(df)"
   ]
  },
  {
   "cell_type": "code",
   "execution_count": 5,
   "id": "a9d10296-c098-4dc4-86d5-abc217390313",
   "metadata": {},
   "outputs": [],
   "source": [
    "GFW2017Points = geopandas.GeoDataFrame(\n",
    "    df, geometry=geopandas.points_from_xy(df.cell_ll_lon, df.cell_ll_lat), crs=\"EPSG:4326\"\n",
    ")"
   ]
  },
  {
   "cell_type": "code",
   "execution_count": 6,
   "id": "19d52b0c-bdd7-456e-bd7c-7019eae12600",
   "metadata": {},
   "outputs": [
    {
     "name": "stdout",
     "output_type": "stream",
     "text": [
      "         date  cell_ll_lat  cell_ll_lon       mmsi   hours  fishing_hours  \\\n",
      "0  2017-01-01          0.0         -2.6  306097000  1.6175         0.0000   \n",
      "1  2017-01-01          0.0       -171.5  338539000  0.5444         0.0000   \n",
      "2  2017-01-01          0.0       -152.6  359002000  1.3522         0.0000   \n",
      "3  2017-01-01          0.0        170.6  367170000  0.3972         0.0000   \n",
      "4  2017-01-01          0.0        170.7  367170000  0.6944         0.3891   \n",
      "\n",
      "                     geometry  \n",
      "0    POINT (-2.60000 0.00000)  \n",
      "1  POINT (-171.50000 0.00000)  \n",
      "2  POINT (-152.60000 0.00000)  \n",
      "3   POINT (170.60000 0.00000)  \n",
      "4   POINT (170.70000 0.00000)  \n"
     ]
    }
   ],
   "source": [
    "print(GFW2017Points.head())"
   ]
  },
  {
   "cell_type": "code",
   "execution_count": 7,
   "id": "c3a3fdca-074d-4893-8710-9547d18e839d",
   "metadata": {},
   "outputs": [
    {
     "data": {
      "text/plain": [
       "43665527"
      ]
     },
     "execution_count": 7,
     "metadata": {},
     "output_type": "execute_result"
    }
   ],
   "source": [
    "len(GFW2017Points)"
   ]
  },
  {
   "cell_type": "markdown",
   "id": "80715cba-e764-484e-873c-380baeb464a6",
   "metadata": {},
   "source": [
    "### Now Clip to the 12nm territorial waters"
   ]
  },
  {
   "cell_type": "code",
   "execution_count": 8,
   "id": "fb8be678-9325-411a-aa1f-8f325b962ea6",
   "metadata": {},
   "outputs": [],
   "source": [
    "EEZ12 = geopandas.read_file(\"eez_12nm_v3.shp\")"
   ]
  },
  {
   "cell_type": "code",
   "execution_count": 9,
   "id": "bbea95a3-a000-4b41-9dc1-42166a6f3577",
   "metadata": {},
   "outputs": [
    {
     "data": {
      "text/plain": [
       "234"
      ]
     },
     "execution_count": 9,
     "metadata": {},
     "output_type": "execute_result"
    }
   ],
   "source": [
    "len(EEZ12)"
   ]
  },
  {
   "cell_type": "code",
   "execution_count": 10,
   "id": "aa1ae5dd-1347-4e86-bb32-6c14955d41f1",
   "metadata": {},
   "outputs": [],
   "source": [
    "EEZ_12_2017 = GFW2017Points.clip(EEZ12)"
   ]
  },
  {
   "cell_type": "code",
   "execution_count": 11,
   "id": "f894f080-5ec6-4f1c-87af-73b607971279",
   "metadata": {},
   "outputs": [
    {
     "name": "stdout",
     "output_type": "stream",
     "text": [
      "                date  cell_ll_lat  cell_ll_lon       mmsi   hours  \\\n",
      "9169839   2017-04-02        -46.6        170.0  512228000  0.2908   \n",
      "36568639  2017-11-05        -46.6        170.0  512430000  0.1000   \n",
      "24401202  2017-08-20        -46.6        170.0  512002236  0.4963   \n",
      "4515340   2017-02-18        -46.6        170.0  512426000  1.5972   \n",
      "2685095   2017-01-30        -46.6        170.0  512411000  0.0608   \n",
      "...              ...          ...          ...        ...     ...   \n",
      "27736170  2017-09-11         80.5         33.3  273370020  0.1297   \n",
      "30905678  2017-09-29         80.5         33.3  257139000  0.0733   \n",
      "28601592  2017-09-16         80.5         33.2  273550600  0.1722   \n",
      "27736171  2017-09-11         80.5         33.2  273370020  0.3674   \n",
      "30905665  2017-09-29         80.5         33.2  257139000  0.2633   \n",
      "\n",
      "          fishing_hours                     geometry  \n",
      "9169839          0.0000  POINT (170.00000 -46.60000)  \n",
      "36568639         0.0000  POINT (170.00000 -46.60000)  \n",
      "24401202         0.0000  POINT (170.00000 -46.60000)  \n",
      "4515340          0.0000  POINT (170.00000 -46.60000)  \n",
      "2685095          0.0000  POINT (170.00000 -46.60000)  \n",
      "...                 ...                          ...  \n",
      "27736170         0.0000    POINT (33.30000 80.50000)  \n",
      "30905678         0.0733    POINT (33.30000 80.50000)  \n",
      "28601592         0.0000    POINT (33.20000 80.50000)  \n",
      "27736171         0.0000    POINT (33.20000 80.50000)  \n",
      "30905665         0.2633    POINT (33.20000 80.50000)  \n",
      "\n",
      "[10082078 rows x 7 columns]\n"
     ]
    }
   ],
   "source": [
    "print(EEZ_12_2017)"
   ]
  },
  {
   "cell_type": "code",
   "execution_count": 12,
   "id": "400a6ea5-a78a-4e92-951d-af244e93d1cd",
   "metadata": {},
   "outputs": [
    {
     "data": {
      "text/plain": [
       "10082078"
      ]
     },
     "execution_count": 12,
     "metadata": {},
     "output_type": "execute_result"
    }
   ],
   "source": [
    "len(EEZ_12_2017)"
   ]
  },
  {
   "cell_type": "code",
   "execution_count": 13,
   "id": "57ceedaf-b14b-4817-8fd2-9aa78582c3e4",
   "metadata": {},
   "outputs": [],
   "source": [
    "del GFW2017Points"
   ]
  },
  {
   "cell_type": "code",
   "execution_count": 14,
   "id": "4df74f12-cc55-4cd6-9f29-0318fcbead3e",
   "metadata": {},
   "outputs": [],
   "source": [
    "del df"
   ]
  },
  {
   "cell_type": "markdown",
   "id": "c91500b4-3539-4cac-8532-f652489a1ddb",
   "metadata": {},
   "source": [
    "### Add flag and geartype"
   ]
  },
  {
   "cell_type": "code",
   "execution_count": 15,
   "id": "e798b149-f450-486e-8629-4c27d1de8f84",
   "metadata": {},
   "outputs": [],
   "source": [
    "flag_gear_df = pd.read_csv('fishing-vessels-flagonly.csv')"
   ]
  },
  {
   "cell_type": "code",
   "execution_count": 16,
   "id": "378f114e-34d1-47ed-9008-2a08b14f3f13",
   "metadata": {},
   "outputs": [
    {
     "data": {
      "text/html": [
       "<div>\n",
       "<style scoped>\n",
       "    .dataframe tbody tr th:only-of-type {\n",
       "        vertical-align: middle;\n",
       "    }\n",
       "\n",
       "    .dataframe tbody tr th {\n",
       "        vertical-align: top;\n",
       "    }\n",
       "\n",
       "    .dataframe thead th {\n",
       "        text-align: right;\n",
       "    }\n",
       "</style>\n",
       "<table border=\"1\" class=\"dataframe\">\n",
       "  <thead>\n",
       "    <tr style=\"text-align: right;\">\n",
       "      <th></th>\n",
       "      <th>mmsi</th>\n",
       "      <th>flag_gfw</th>\n",
       "      <th>vessel_class_gfw</th>\n",
       "      <th>fishing_hours_2019</th>\n",
       "    </tr>\n",
       "  </thead>\n",
       "  <tbody>\n",
       "    <tr>\n",
       "      <th>0</th>\n",
       "      <td>40120000</td>\n",
       "      <td>GRC</td>\n",
       "      <td>trawlers</td>\n",
       "      <td>NaN</td>\n",
       "    </tr>\n",
       "    <tr>\n",
       "      <th>1</th>\n",
       "      <td>444002410</td>\n",
       "      <td>KOR</td>\n",
       "      <td>tuna_purse_seines</td>\n",
       "      <td>NaN</td>\n",
       "    </tr>\n",
       "  </tbody>\n",
       "</table>\n",
       "</div>"
      ],
      "text/plain": [
       "        mmsi flag_gfw   vessel_class_gfw  fishing_hours_2019\n",
       "0   40120000      GRC           trawlers                 NaN\n",
       "1  444002410      KOR  tuna_purse_seines                 NaN"
      ]
     },
     "execution_count": 16,
     "metadata": {},
     "output_type": "execute_result"
    }
   ],
   "source": [
    "flag_gear_df.head(2)"
   ]
  },
  {
   "cell_type": "code",
   "execution_count": 17,
   "id": "8a30fcbe-3491-4ba0-899a-36fbb8e30c79",
   "metadata": {},
   "outputs": [],
   "source": [
    "EEZ_12_2017 = pd.merge(EEZ_12_2017, flag_gear_df[['mmsi','flag_gfw','vessel_class_gfw']], on='mmsi', how='left')"
   ]
  },
  {
   "cell_type": "code",
   "execution_count": 18,
   "id": "f3328929-658b-46a9-b42a-0448a0357542",
   "metadata": {},
   "outputs": [
    {
     "data": {
      "text/html": [
       "<div>\n",
       "<style scoped>\n",
       "    .dataframe tbody tr th:only-of-type {\n",
       "        vertical-align: middle;\n",
       "    }\n",
       "\n",
       "    .dataframe tbody tr th {\n",
       "        vertical-align: top;\n",
       "    }\n",
       "\n",
       "    .dataframe thead th {\n",
       "        text-align: right;\n",
       "    }\n",
       "</style>\n",
       "<table border=\"1\" class=\"dataframe\">\n",
       "  <thead>\n",
       "    <tr style=\"text-align: right;\">\n",
       "      <th></th>\n",
       "      <th>date</th>\n",
       "      <th>cell_ll_lat</th>\n",
       "      <th>cell_ll_lon</th>\n",
       "      <th>mmsi</th>\n",
       "      <th>hours</th>\n",
       "      <th>fishing_hours</th>\n",
       "      <th>geometry</th>\n",
       "      <th>flag_gfw</th>\n",
       "      <th>vessel_class_gfw</th>\n",
       "    </tr>\n",
       "  </thead>\n",
       "  <tbody>\n",
       "    <tr>\n",
       "      <th>0</th>\n",
       "      <td>2017-04-02</td>\n",
       "      <td>-46.6</td>\n",
       "      <td>170.0</td>\n",
       "      <td>512228000</td>\n",
       "      <td>0.2908</td>\n",
       "      <td>0.0</td>\n",
       "      <td>POINT (170.00000 -46.60000)</td>\n",
       "      <td>NZL</td>\n",
       "      <td>trawlers</td>\n",
       "    </tr>\n",
       "    <tr>\n",
       "      <th>1</th>\n",
       "      <td>2017-11-05</td>\n",
       "      <td>-46.6</td>\n",
       "      <td>170.0</td>\n",
       "      <td>512430000</td>\n",
       "      <td>0.1000</td>\n",
       "      <td>0.0</td>\n",
       "      <td>POINT (170.00000 -46.60000)</td>\n",
       "      <td>NZL</td>\n",
       "      <td>trawlers</td>\n",
       "    </tr>\n",
       "  </tbody>\n",
       "</table>\n",
       "</div>"
      ],
      "text/plain": [
       "         date  cell_ll_lat  cell_ll_lon       mmsi   hours  fishing_hours  \\\n",
       "0  2017-04-02        -46.6        170.0  512228000  0.2908            0.0   \n",
       "1  2017-11-05        -46.6        170.0  512430000  0.1000            0.0   \n",
       "\n",
       "                      geometry flag_gfw vessel_class_gfw  \n",
       "0  POINT (170.00000 -46.60000)      NZL         trawlers  \n",
       "1  POINT (170.00000 -46.60000)      NZL         trawlers  "
      ]
     },
     "execution_count": 18,
     "metadata": {},
     "output_type": "execute_result"
    }
   ],
   "source": [
    "EEZ_12_2017.head(2)"
   ]
  },
  {
   "cell_type": "code",
   "execution_count": 19,
   "id": "30f9acf5-ea68-4008-8d2e-212fa532a316",
   "metadata": {},
   "outputs": [
    {
     "data": {
      "text/plain": [
       "10082078"
      ]
     },
     "execution_count": 19,
     "metadata": {},
     "output_type": "execute_result"
    }
   ],
   "source": [
    "len(EEZ_12_2017)"
   ]
  },
  {
   "cell_type": "markdown",
   "id": "51ba1d62-095a-42e3-bfe1-e3d8f3dd5b46",
   "metadata": {},
   "source": [
    "### Select only for trawler vessels"
   ]
  },
  {
   "cell_type": "code",
   "execution_count": 20,
   "id": "0bb14071-6cfe-4b4f-afa5-a1a1015d7d9a",
   "metadata": {},
   "outputs": [],
   "source": [
    "Trawl_12nm2017 = EEZ_12_2017[(EEZ_12_2017['vessel_class_gfw'] == 'trawlers')]"
   ]
  },
  {
   "cell_type": "code",
   "execution_count": 21,
   "id": "2ea07cbf-19f3-4510-9842-f1f375da79c5",
   "metadata": {},
   "outputs": [
    {
     "data": {
      "text/html": [
       "<div>\n",
       "<style scoped>\n",
       "    .dataframe tbody tr th:only-of-type {\n",
       "        vertical-align: middle;\n",
       "    }\n",
       "\n",
       "    .dataframe tbody tr th {\n",
       "        vertical-align: top;\n",
       "    }\n",
       "\n",
       "    .dataframe thead th {\n",
       "        text-align: right;\n",
       "    }\n",
       "</style>\n",
       "<table border=\"1\" class=\"dataframe\">\n",
       "  <thead>\n",
       "    <tr style=\"text-align: right;\">\n",
       "      <th></th>\n",
       "      <th>date</th>\n",
       "      <th>cell_ll_lat</th>\n",
       "      <th>cell_ll_lon</th>\n",
       "      <th>mmsi</th>\n",
       "      <th>hours</th>\n",
       "      <th>fishing_hours</th>\n",
       "      <th>geometry</th>\n",
       "      <th>flag_gfw</th>\n",
       "      <th>vessel_class_gfw</th>\n",
       "    </tr>\n",
       "  </thead>\n",
       "  <tbody>\n",
       "    <tr>\n",
       "      <th>0</th>\n",
       "      <td>2017-04-02</td>\n",
       "      <td>-46.6</td>\n",
       "      <td>170.0</td>\n",
       "      <td>512228000</td>\n",
       "      <td>0.2908</td>\n",
       "      <td>0.0</td>\n",
       "      <td>POINT (170.00000 -46.60000)</td>\n",
       "      <td>NZL</td>\n",
       "      <td>trawlers</td>\n",
       "    </tr>\n",
       "    <tr>\n",
       "      <th>1</th>\n",
       "      <td>2017-11-05</td>\n",
       "      <td>-46.6</td>\n",
       "      <td>170.0</td>\n",
       "      <td>512430000</td>\n",
       "      <td>0.1000</td>\n",
       "      <td>0.0</td>\n",
       "      <td>POINT (170.00000 -46.60000)</td>\n",
       "      <td>NZL</td>\n",
       "      <td>trawlers</td>\n",
       "    </tr>\n",
       "  </tbody>\n",
       "</table>\n",
       "</div>"
      ],
      "text/plain": [
       "         date  cell_ll_lat  cell_ll_lon       mmsi   hours  fishing_hours  \\\n",
       "0  2017-04-02        -46.6        170.0  512228000  0.2908            0.0   \n",
       "1  2017-11-05        -46.6        170.0  512430000  0.1000            0.0   \n",
       "\n",
       "                      geometry flag_gfw vessel_class_gfw  \n",
       "0  POINT (170.00000 -46.60000)      NZL         trawlers  \n",
       "1  POINT (170.00000 -46.60000)      NZL         trawlers  "
      ]
     },
     "execution_count": 21,
     "metadata": {},
     "output_type": "execute_result"
    }
   ],
   "source": [
    "Trawl_12nm2017.head(2)"
   ]
  },
  {
   "cell_type": "code",
   "execution_count": 22,
   "id": "d161e52e-d01f-412d-ac43-8b7ac1d131da",
   "metadata": {},
   "outputs": [
    {
     "data": {
      "text/plain": [
       "5500589"
      ]
     },
     "execution_count": 22,
     "metadata": {},
     "output_type": "execute_result"
    }
   ],
   "source": [
    "len(Trawl_12nm2017)"
   ]
  },
  {
   "cell_type": "markdown",
   "id": "b7f31f5c-b754-480f-858b-032d50b3a24b",
   "metadata": {},
   "source": [
    "### Do a spatial join to get the Trawler Points to have a territory name attached to it"
   ]
  },
  {
   "cell_type": "code",
   "execution_count": 23,
   "id": "b055d3b4-9177-4dce-90f5-74dbb09773e6",
   "metadata": {},
   "outputs": [
    {
     "data": {
      "text/html": [
       "<div>\n",
       "<style scoped>\n",
       "    .dataframe tbody tr th:only-of-type {\n",
       "        vertical-align: middle;\n",
       "    }\n",
       "\n",
       "    .dataframe tbody tr th {\n",
       "        vertical-align: top;\n",
       "    }\n",
       "\n",
       "    .dataframe thead th {\n",
       "        text-align: right;\n",
       "    }\n",
       "</style>\n",
       "<table border=\"1\" class=\"dataframe\">\n",
       "  <thead>\n",
       "    <tr style=\"text-align: right;\">\n",
       "      <th></th>\n",
       "      <th>MRGID</th>\n",
       "      <th>GEONAME</th>\n",
       "      <th>POL_TYPE</th>\n",
       "      <th>MRGID_TER1</th>\n",
       "      <th>TERRITORY1</th>\n",
       "      <th>MRGID_SOV1</th>\n",
       "      <th>SOVEREIGN1</th>\n",
       "      <th>ISO_TER1</th>\n",
       "      <th>X_1</th>\n",
       "      <th>Y_1</th>\n",
       "      <th>MRGID_EEZ</th>\n",
       "      <th>AREA_KM2</th>\n",
       "      <th>ISO_SOV1</th>\n",
       "      <th>UN_SOV1</th>\n",
       "      <th>UN_TER1</th>\n",
       "      <th>geometry</th>\n",
       "    </tr>\n",
       "  </thead>\n",
       "  <tbody>\n",
       "    <tr>\n",
       "      <th>0</th>\n",
       "      <td>49010.0</td>\n",
       "      <td>Belgian 12 NM</td>\n",
       "      <td>12NM</td>\n",
       "      <td>14.0</td>\n",
       "      <td>Belgium</td>\n",
       "      <td>14.0</td>\n",
       "      <td>Belgium</td>\n",
       "      <td>BEL</td>\n",
       "      <td>2.86467</td>\n",
       "      <td>51.32730</td>\n",
       "      <td>3293.0</td>\n",
       "      <td>1444.0</td>\n",
       "      <td>BEL</td>\n",
       "      <td>56</td>\n",
       "      <td>56.0</td>\n",
       "      <td>POLYGON ((3.10612 51.53901, 3.11336 51.53531, ...</td>\n",
       "    </tr>\n",
       "    <tr>\n",
       "      <th>1</th>\n",
       "      <td>49012.0</td>\n",
       "      <td>Albanian 12 NM</td>\n",
       "      <td>12NM</td>\n",
       "      <td>2153.0</td>\n",
       "      <td>Albania</td>\n",
       "      <td>2153.0</td>\n",
       "      <td>Albania</td>\n",
       "      <td>ALB</td>\n",
       "      <td>19.34000</td>\n",
       "      <td>40.82508</td>\n",
       "      <td>5670.0</td>\n",
       "      <td>5455.0</td>\n",
       "      <td>ALB</td>\n",
       "      <td>8</td>\n",
       "      <td>8.0</td>\n",
       "      <td>POLYGON ((20.00835 39.69182, 20.00810 39.69187...</td>\n",
       "    </tr>\n",
       "  </tbody>\n",
       "</table>\n",
       "</div>"
      ],
      "text/plain": [
       "     MRGID         GEONAME POL_TYPE  MRGID_TER1 TERRITORY1  MRGID_SOV1  \\\n",
       "0  49010.0   Belgian 12 NM     12NM        14.0    Belgium        14.0   \n",
       "1  49012.0  Albanian 12 NM     12NM      2153.0    Albania      2153.0   \n",
       "\n",
       "  SOVEREIGN1 ISO_TER1       X_1       Y_1  MRGID_EEZ  AREA_KM2 ISO_SOV1  \\\n",
       "0    Belgium      BEL   2.86467  51.32730     3293.0    1444.0      BEL   \n",
       "1    Albania      ALB  19.34000  40.82508     5670.0    5455.0      ALB   \n",
       "\n",
       "   UN_SOV1  UN_TER1                                           geometry  \n",
       "0       56     56.0  POLYGON ((3.10612 51.53901, 3.11336 51.53531, ...  \n",
       "1        8      8.0  POLYGON ((20.00835 39.69182, 20.00810 39.69187...  "
      ]
     },
     "execution_count": 23,
     "metadata": {},
     "output_type": "execute_result"
    }
   ],
   "source": [
    "EEZ12.head(2)"
   ]
  },
  {
   "cell_type": "code",
   "execution_count": 25,
   "id": "11fc0973-4d76-47f5-aa81-9de1cc0bd115",
   "metadata": {},
   "outputs": [],
   "source": [
    "Trawl_w_territory = Trawl_12nm2017.sjoin(EEZ12, how ='left', predicate ='within')"
   ]
  },
  {
   "cell_type": "code",
   "execution_count": 26,
   "id": "2fe88a20-2bef-422b-8c4a-10846f6d56e6",
   "metadata": {},
   "outputs": [
    {
     "data": {
      "text/html": [
       "<div>\n",
       "<style scoped>\n",
       "    .dataframe tbody tr th:only-of-type {\n",
       "        vertical-align: middle;\n",
       "    }\n",
       "\n",
       "    .dataframe tbody tr th {\n",
       "        vertical-align: top;\n",
       "    }\n",
       "\n",
       "    .dataframe thead th {\n",
       "        text-align: right;\n",
       "    }\n",
       "</style>\n",
       "<table border=\"1\" class=\"dataframe\">\n",
       "  <thead>\n",
       "    <tr style=\"text-align: right;\">\n",
       "      <th></th>\n",
       "      <th>date</th>\n",
       "      <th>cell_ll_lat</th>\n",
       "      <th>cell_ll_lon</th>\n",
       "      <th>mmsi</th>\n",
       "      <th>hours</th>\n",
       "      <th>fishing_hours</th>\n",
       "      <th>geometry</th>\n",
       "      <th>flag_gfw</th>\n",
       "      <th>vessel_class_gfw</th>\n",
       "      <th>index_right</th>\n",
       "      <th>...</th>\n",
       "      <th>MRGID_SOV1</th>\n",
       "      <th>SOVEREIGN1</th>\n",
       "      <th>ISO_TER1</th>\n",
       "      <th>X_1</th>\n",
       "      <th>Y_1</th>\n",
       "      <th>MRGID_EEZ</th>\n",
       "      <th>AREA_KM2</th>\n",
       "      <th>ISO_SOV1</th>\n",
       "      <th>UN_SOV1</th>\n",
       "      <th>UN_TER1</th>\n",
       "    </tr>\n",
       "  </thead>\n",
       "  <tbody>\n",
       "    <tr>\n",
       "      <th>0</th>\n",
       "      <td>2017-04-02</td>\n",
       "      <td>-46.6</td>\n",
       "      <td>170.0</td>\n",
       "      <td>512228000</td>\n",
       "      <td>0.2908</td>\n",
       "      <td>0.0</td>\n",
       "      <td>POINT (170.00000 -46.60000)</td>\n",
       "      <td>NZL</td>\n",
       "      <td>trawlers</td>\n",
       "      <td>213.0</td>\n",
       "      <td>...</td>\n",
       "      <td>2227.0</td>\n",
       "      <td>New Zealand</td>\n",
       "      <td>NZL</td>\n",
       "      <td>136.49119</td>\n",
       "      <td>-41.49446</td>\n",
       "      <td>8455.0</td>\n",
       "      <td>180085.0</td>\n",
       "      <td>NZL</td>\n",
       "      <td>554.0</td>\n",
       "      <td>554.0</td>\n",
       "    </tr>\n",
       "    <tr>\n",
       "      <th>1</th>\n",
       "      <td>2017-11-05</td>\n",
       "      <td>-46.6</td>\n",
       "      <td>170.0</td>\n",
       "      <td>512430000</td>\n",
       "      <td>0.1000</td>\n",
       "      <td>0.0</td>\n",
       "      <td>POINT (170.00000 -46.60000)</td>\n",
       "      <td>NZL</td>\n",
       "      <td>trawlers</td>\n",
       "      <td>213.0</td>\n",
       "      <td>...</td>\n",
       "      <td>2227.0</td>\n",
       "      <td>New Zealand</td>\n",
       "      <td>NZL</td>\n",
       "      <td>136.49119</td>\n",
       "      <td>-41.49446</td>\n",
       "      <td>8455.0</td>\n",
       "      <td>180085.0</td>\n",
       "      <td>NZL</td>\n",
       "      <td>554.0</td>\n",
       "      <td>554.0</td>\n",
       "    </tr>\n",
       "  </tbody>\n",
       "</table>\n",
       "<p>2 rows × 25 columns</p>\n",
       "</div>"
      ],
      "text/plain": [
       "         date  cell_ll_lat  cell_ll_lon       mmsi   hours  fishing_hours  \\\n",
       "0  2017-04-02        -46.6        170.0  512228000  0.2908            0.0   \n",
       "1  2017-11-05        -46.6        170.0  512430000  0.1000            0.0   \n",
       "\n",
       "                      geometry flag_gfw vessel_class_gfw  index_right  ...  \\\n",
       "0  POINT (170.00000 -46.60000)      NZL         trawlers        213.0  ...   \n",
       "1  POINT (170.00000 -46.60000)      NZL         trawlers        213.0  ...   \n",
       "\n",
       "   MRGID_SOV1   SOVEREIGN1 ISO_TER1        X_1       Y_1  MRGID_EEZ  AREA_KM2  \\\n",
       "0      2227.0  New Zealand      NZL  136.49119 -41.49446     8455.0  180085.0   \n",
       "1      2227.0  New Zealand      NZL  136.49119 -41.49446     8455.0  180085.0   \n",
       "\n",
       "  ISO_SOV1  UN_SOV1  UN_TER1  \n",
       "0      NZL    554.0    554.0  \n",
       "1      NZL    554.0    554.0  \n",
       "\n",
       "[2 rows x 25 columns]"
      ]
     },
     "execution_count": 26,
     "metadata": {},
     "output_type": "execute_result"
    }
   ],
   "source": [
    "Trawl_w_territory.head(2)"
   ]
  },
  {
   "cell_type": "code",
   "execution_count": 27,
   "id": "be361edc-5f0e-4531-a185-54c56ac078c8",
   "metadata": {},
   "outputs": [
    {
     "data": {
      "text/html": [
       "<div>\n",
       "<style scoped>\n",
       "    .dataframe tbody tr th:only-of-type {\n",
       "        vertical-align: middle;\n",
       "    }\n",
       "\n",
       "    .dataframe tbody tr th {\n",
       "        vertical-align: top;\n",
       "    }\n",
       "\n",
       "    .dataframe thead th {\n",
       "        text-align: right;\n",
       "    }\n",
       "</style>\n",
       "<table border=\"1\" class=\"dataframe\">\n",
       "  <thead>\n",
       "    <tr style=\"text-align: right;\">\n",
       "      <th></th>\n",
       "      <th>date</th>\n",
       "      <th>mmsi</th>\n",
       "      <th>hours</th>\n",
       "      <th>fishing_hours</th>\n",
       "      <th>geometry</th>\n",
       "      <th>flag_gfw</th>\n",
       "      <th>vessel_class_gfw</th>\n",
       "      <th>ISO_TER1</th>\n",
       "    </tr>\n",
       "  </thead>\n",
       "  <tbody>\n",
       "    <tr>\n",
       "      <th>0</th>\n",
       "      <td>2017-04-02</td>\n",
       "      <td>512228000</td>\n",
       "      <td>0.2908</td>\n",
       "      <td>0.0</td>\n",
       "      <td>POINT (170.00000 -46.60000)</td>\n",
       "      <td>NZL</td>\n",
       "      <td>trawlers</td>\n",
       "      <td>NZL</td>\n",
       "    </tr>\n",
       "    <tr>\n",
       "      <th>1</th>\n",
       "      <td>2017-11-05</td>\n",
       "      <td>512430000</td>\n",
       "      <td>0.1000</td>\n",
       "      <td>0.0</td>\n",
       "      <td>POINT (170.00000 -46.60000)</td>\n",
       "      <td>NZL</td>\n",
       "      <td>trawlers</td>\n",
       "      <td>NZL</td>\n",
       "    </tr>\n",
       "    <tr>\n",
       "      <th>2</th>\n",
       "      <td>2017-08-20</td>\n",
       "      <td>512002236</td>\n",
       "      <td>0.4963</td>\n",
       "      <td>0.0</td>\n",
       "      <td>POINT (170.00000 -46.60000)</td>\n",
       "      <td>NZL</td>\n",
       "      <td>trawlers</td>\n",
       "      <td>NZL</td>\n",
       "    </tr>\n",
       "    <tr>\n",
       "      <th>3</th>\n",
       "      <td>2017-02-18</td>\n",
       "      <td>512426000</td>\n",
       "      <td>1.5972</td>\n",
       "      <td>0.0</td>\n",
       "      <td>POINT (170.00000 -46.60000)</td>\n",
       "      <td>NZL</td>\n",
       "      <td>trawlers</td>\n",
       "      <td>NZL</td>\n",
       "    </tr>\n",
       "    <tr>\n",
       "      <th>4</th>\n",
       "      <td>2017-01-30</td>\n",
       "      <td>512411000</td>\n",
       "      <td>0.0608</td>\n",
       "      <td>0.0</td>\n",
       "      <td>POINT (170.00000 -46.60000)</td>\n",
       "      <td>NZL</td>\n",
       "      <td>trawlers</td>\n",
       "      <td>NZL</td>\n",
       "    </tr>\n",
       "  </tbody>\n",
       "</table>\n",
       "</div>"
      ],
      "text/plain": [
       "         date       mmsi   hours  fishing_hours                     geometry  \\\n",
       "0  2017-04-02  512228000  0.2908            0.0  POINT (170.00000 -46.60000)   \n",
       "1  2017-11-05  512430000  0.1000            0.0  POINT (170.00000 -46.60000)   \n",
       "2  2017-08-20  512002236  0.4963            0.0  POINT (170.00000 -46.60000)   \n",
       "3  2017-02-18  512426000  1.5972            0.0  POINT (170.00000 -46.60000)   \n",
       "4  2017-01-30  512411000  0.0608            0.0  POINT (170.00000 -46.60000)   \n",
       "\n",
       "  flag_gfw vessel_class_gfw ISO_TER1  \n",
       "0      NZL         trawlers      NZL  \n",
       "1      NZL         trawlers      NZL  \n",
       "2      NZL         trawlers      NZL  \n",
       "3      NZL         trawlers      NZL  \n",
       "4      NZL         trawlers      NZL  "
      ]
     },
     "execution_count": 27,
     "metadata": {},
     "output_type": "execute_result"
    }
   ],
   "source": [
    "Trawl_w_territory[[\"date\",\"mmsi\",\"hours\",\"fishing_hours\",\"geometry\",\"flag_gfw\",\"vessel_class_gfw\",\"ISO_TER1\"]].head()"
   ]
  },
  {
   "cell_type": "code",
   "execution_count": 28,
   "id": "65520c58-50fe-4daf-b296-d402818b80f5",
   "metadata": {},
   "outputs": [
    {
     "data": {
      "text/plain": [
       "5500589"
      ]
     },
     "execution_count": 28,
     "metadata": {},
     "output_type": "execute_result"
    }
   ],
   "source": [
    "len(Trawl_w_territory)"
   ]
  },
  {
   "cell_type": "markdown",
   "id": "3069e3b3-13cd-4e34-854e-4660967b4c82",
   "metadata": {},
   "source": [
    "### Group by the EEZ polygon and sum fishing hours and hours present"
   ]
  },
  {
   "cell_type": "code",
   "execution_count": 30,
   "id": "6758540a-3d08-495d-9809-68508983a291",
   "metadata": {},
   "outputs": [
    {
     "name": "stderr",
     "output_type": "stream",
     "text": [
      "/tmp/ipykernel_679/1965765034.py:1: FutureWarning: Indexing with multiple keys (implicitly converted to a tuple of keys) will be deprecated, use a list instead.\n",
      "  SumFishing_Hours12nm =Trawl_w_territory.groupby(['ISO_TER1'])['hours','fishing_hours'].sum().reset_index()\n"
     ]
    }
   ],
   "source": [
    "SumFishing_Hours12nm =Trawl_w_territory.groupby(['ISO_TER1'])['hours','fishing_hours'].sum().reset_index()"
   ]
  },
  {
   "cell_type": "code",
   "execution_count": 39,
   "id": "fb0b6539-bae5-4d42-9648-e0c5d0cef428",
   "metadata": {},
   "outputs": [
    {
     "data": {
      "text/plain": [
       "133"
      ]
     },
     "execution_count": 39,
     "metadata": {},
     "output_type": "execute_result"
    }
   ],
   "source": [
    "len(SumFishing_Hours12nm)"
   ]
  },
  {
   "cell_type": "code",
   "execution_count": 38,
   "id": "bef401c9-27aa-4f8f-8cbb-9329936f54e0",
   "metadata": {},
   "outputs": [
    {
     "data": {
      "text/html": [
       "<div>\n",
       "<style scoped>\n",
       "    .dataframe tbody tr th:only-of-type {\n",
       "        vertical-align: middle;\n",
       "    }\n",
       "\n",
       "    .dataframe tbody tr th {\n",
       "        vertical-align: top;\n",
       "    }\n",
       "\n",
       "    .dataframe thead th {\n",
       "        text-align: right;\n",
       "    }\n",
       "</style>\n",
       "<table border=\"1\" class=\"dataframe\">\n",
       "  <thead>\n",
       "    <tr style=\"text-align: right;\">\n",
       "      <th></th>\n",
       "      <th>ISO_TER1</th>\n",
       "      <th>hours</th>\n",
       "      <th>fishing_hours</th>\n",
       "    </tr>\n",
       "  </thead>\n",
       "  <tbody>\n",
       "    <tr>\n",
       "      <th>0</th>\n",
       "      <td>ABW</td>\n",
       "      <td>644.8333</td>\n",
       "      <td>90.8621</td>\n",
       "    </tr>\n",
       "    <tr>\n",
       "      <th>1</th>\n",
       "      <td>AGO</td>\n",
       "      <td>68177.8657</td>\n",
       "      <td>9232.2787</td>\n",
       "    </tr>\n",
       "    <tr>\n",
       "      <th>2</th>\n",
       "      <td>AIA</td>\n",
       "      <td>0.2041</td>\n",
       "      <td>0.0000</td>\n",
       "    </tr>\n",
       "    <tr>\n",
       "      <th>3</th>\n",
       "      <td>ALB</td>\n",
       "      <td>3108.8390</td>\n",
       "      <td>674.8196</td>\n",
       "    </tr>\n",
       "    <tr>\n",
       "      <th>4</th>\n",
       "      <td>ARE</td>\n",
       "      <td>208.5620</td>\n",
       "      <td>46.5800</td>\n",
       "    </tr>\n",
       "  </tbody>\n",
       "</table>\n",
       "</div>"
      ],
      "text/plain": [
       "  ISO_TER1       hours  fishing_hours\n",
       "0      ABW    644.8333        90.8621\n",
       "1      AGO  68177.8657      9232.2787\n",
       "2      AIA      0.2041         0.0000\n",
       "3      ALB   3108.8390       674.8196\n",
       "4      ARE    208.5620        46.5800"
      ]
     },
     "execution_count": 38,
     "metadata": {},
     "output_type": "execute_result"
    }
   ],
   "source": [
    "SumFishing_Hours12nm.head(5)"
   ]
  },
  {
   "cell_type": "code",
   "execution_count": 40,
   "id": "d91f9803-061e-4d01-8c04-5b5ddcd1334d",
   "metadata": {},
   "outputs": [],
   "source": [
    "#Turn into a dataframe \n",
    "SumFishing_Hours12nm = pd.DataFrame(SumFishing_Hours12nm)"
   ]
  },
  {
   "cell_type": "code",
   "execution_count": null,
   "id": "d34a4f6f-ea82-4325-8cac-337dfcbfb88b",
   "metadata": {},
   "outputs": [],
   "source": [
    "SumFishing_Hours12nm.to_csv('SumFishing_Hours12nm.csv')"
   ]
  },
  {
   "cell_type": "markdown",
   "id": "b4e9d846-0ad5-4dd8-a3ef-10d7a54ac38a",
   "metadata": {},
   "source": [
    "### Get rid of 0 hours present points and group by and then count # of vessels in each EEZ polygon"
   ]
  },
  {
   "cell_type": "code",
   "execution_count": 42,
   "id": "5e19e6d9-2912-4447-b903-8198a9cf260a",
   "metadata": {},
   "outputs": [],
   "source": [
    "Trawl_w_territoryTable = pd.DataFrame(Trawl_w_territory)"
   ]
  },
  {
   "cell_type": "code",
   "execution_count": 43,
   "id": "7323125a-9a00-4210-89e2-ea99e5055ec3",
   "metadata": {},
   "outputs": [],
   "source": [
    "import numpy as np"
   ]
  },
  {
   "cell_type": "code",
   "execution_count": 44,
   "id": "c1b46666-bed0-4d4f-8a8c-7d515025064b",
   "metadata": {},
   "outputs": [],
   "source": [
    "Trawl_w_territoryTable.replace(0, np.nan, inplace=True)"
   ]
  },
  {
   "cell_type": "code",
   "execution_count": 45,
   "id": "b91b0c68-6f27-448c-8d38-53165a1d637d",
   "metadata": {},
   "outputs": [],
   "source": [
    "HoursTrawlnoNAN = Trawl_w_territoryTable.dropna(subset=['hours'])"
   ]
  },
  {
   "cell_type": "code",
   "execution_count": 46,
   "id": "49431f30-4ee3-4874-8a70-2687098eca62",
   "metadata": {},
   "outputs": [
    {
     "data": {
      "text/html": [
       "<div>\n",
       "<style scoped>\n",
       "    .dataframe tbody tr th:only-of-type {\n",
       "        vertical-align: middle;\n",
       "    }\n",
       "\n",
       "    .dataframe tbody tr th {\n",
       "        vertical-align: top;\n",
       "    }\n",
       "\n",
       "    .dataframe thead th {\n",
       "        text-align: right;\n",
       "    }\n",
       "</style>\n",
       "<table border=\"1\" class=\"dataframe\">\n",
       "  <thead>\n",
       "    <tr style=\"text-align: right;\">\n",
       "      <th></th>\n",
       "      <th>date</th>\n",
       "      <th>cell_ll_lat</th>\n",
       "      <th>cell_ll_lon</th>\n",
       "      <th>mmsi</th>\n",
       "      <th>hours</th>\n",
       "      <th>fishing_hours</th>\n",
       "      <th>geometry</th>\n",
       "      <th>flag_gfw</th>\n",
       "      <th>vessel_class_gfw</th>\n",
       "      <th>index_right</th>\n",
       "      <th>...</th>\n",
       "      <th>MRGID_SOV1</th>\n",
       "      <th>SOVEREIGN1</th>\n",
       "      <th>ISO_TER1</th>\n",
       "      <th>X_1</th>\n",
       "      <th>Y_1</th>\n",
       "      <th>MRGID_EEZ</th>\n",
       "      <th>AREA_KM2</th>\n",
       "      <th>ISO_SOV1</th>\n",
       "      <th>UN_SOV1</th>\n",
       "      <th>UN_TER1</th>\n",
       "    </tr>\n",
       "  </thead>\n",
       "  <tbody>\n",
       "    <tr>\n",
       "      <th>0</th>\n",
       "      <td>2017-04-02</td>\n",
       "      <td>-46.6</td>\n",
       "      <td>170.0</td>\n",
       "      <td>512228000</td>\n",
       "      <td>0.2908</td>\n",
       "      <td>NaN</td>\n",
       "      <td>POINT (170.00000 -46.60000)</td>\n",
       "      <td>NZL</td>\n",
       "      <td>trawlers</td>\n",
       "      <td>213.0</td>\n",
       "      <td>...</td>\n",
       "      <td>2227.0</td>\n",
       "      <td>New Zealand</td>\n",
       "      <td>NZL</td>\n",
       "      <td>136.49119</td>\n",
       "      <td>-41.49446</td>\n",
       "      <td>8455.0</td>\n",
       "      <td>180085.0</td>\n",
       "      <td>NZL</td>\n",
       "      <td>554.0</td>\n",
       "      <td>554.0</td>\n",
       "    </tr>\n",
       "    <tr>\n",
       "      <th>1</th>\n",
       "      <td>2017-11-05</td>\n",
       "      <td>-46.6</td>\n",
       "      <td>170.0</td>\n",
       "      <td>512430000</td>\n",
       "      <td>0.1000</td>\n",
       "      <td>NaN</td>\n",
       "      <td>POINT (170.00000 -46.60000)</td>\n",
       "      <td>NZL</td>\n",
       "      <td>trawlers</td>\n",
       "      <td>213.0</td>\n",
       "      <td>...</td>\n",
       "      <td>2227.0</td>\n",
       "      <td>New Zealand</td>\n",
       "      <td>NZL</td>\n",
       "      <td>136.49119</td>\n",
       "      <td>-41.49446</td>\n",
       "      <td>8455.0</td>\n",
       "      <td>180085.0</td>\n",
       "      <td>NZL</td>\n",
       "      <td>554.0</td>\n",
       "      <td>554.0</td>\n",
       "    </tr>\n",
       "    <tr>\n",
       "      <th>2</th>\n",
       "      <td>2017-08-20</td>\n",
       "      <td>-46.6</td>\n",
       "      <td>170.0</td>\n",
       "      <td>512002236</td>\n",
       "      <td>0.4963</td>\n",
       "      <td>NaN</td>\n",
       "      <td>POINT (170.00000 -46.60000)</td>\n",
       "      <td>NZL</td>\n",
       "      <td>trawlers</td>\n",
       "      <td>213.0</td>\n",
       "      <td>...</td>\n",
       "      <td>2227.0</td>\n",
       "      <td>New Zealand</td>\n",
       "      <td>NZL</td>\n",
       "      <td>136.49119</td>\n",
       "      <td>-41.49446</td>\n",
       "      <td>8455.0</td>\n",
       "      <td>180085.0</td>\n",
       "      <td>NZL</td>\n",
       "      <td>554.0</td>\n",
       "      <td>554.0</td>\n",
       "    </tr>\n",
       "    <tr>\n",
       "      <th>3</th>\n",
       "      <td>2017-02-18</td>\n",
       "      <td>-46.6</td>\n",
       "      <td>170.0</td>\n",
       "      <td>512426000</td>\n",
       "      <td>1.5972</td>\n",
       "      <td>NaN</td>\n",
       "      <td>POINT (170.00000 -46.60000)</td>\n",
       "      <td>NZL</td>\n",
       "      <td>trawlers</td>\n",
       "      <td>213.0</td>\n",
       "      <td>...</td>\n",
       "      <td>2227.0</td>\n",
       "      <td>New Zealand</td>\n",
       "      <td>NZL</td>\n",
       "      <td>136.49119</td>\n",
       "      <td>-41.49446</td>\n",
       "      <td>8455.0</td>\n",
       "      <td>180085.0</td>\n",
       "      <td>NZL</td>\n",
       "      <td>554.0</td>\n",
       "      <td>554.0</td>\n",
       "    </tr>\n",
       "    <tr>\n",
       "      <th>4</th>\n",
       "      <td>2017-01-30</td>\n",
       "      <td>-46.6</td>\n",
       "      <td>170.0</td>\n",
       "      <td>512411000</td>\n",
       "      <td>0.0608</td>\n",
       "      <td>NaN</td>\n",
       "      <td>POINT (170.00000 -46.60000)</td>\n",
       "      <td>NZL</td>\n",
       "      <td>trawlers</td>\n",
       "      <td>213.0</td>\n",
       "      <td>...</td>\n",
       "      <td>2227.0</td>\n",
       "      <td>New Zealand</td>\n",
       "      <td>NZL</td>\n",
       "      <td>136.49119</td>\n",
       "      <td>-41.49446</td>\n",
       "      <td>8455.0</td>\n",
       "      <td>180085.0</td>\n",
       "      <td>NZL</td>\n",
       "      <td>554.0</td>\n",
       "      <td>554.0</td>\n",
       "    </tr>\n",
       "  </tbody>\n",
       "</table>\n",
       "<p>5 rows × 25 columns</p>\n",
       "</div>"
      ],
      "text/plain": [
       "         date  cell_ll_lat  cell_ll_lon       mmsi   hours  fishing_hours  \\\n",
       "0  2017-04-02        -46.6        170.0  512228000  0.2908            NaN   \n",
       "1  2017-11-05        -46.6        170.0  512430000  0.1000            NaN   \n",
       "2  2017-08-20        -46.6        170.0  512002236  0.4963            NaN   \n",
       "3  2017-02-18        -46.6        170.0  512426000  1.5972            NaN   \n",
       "4  2017-01-30        -46.6        170.0  512411000  0.0608            NaN   \n",
       "\n",
       "                      geometry flag_gfw vessel_class_gfw  index_right  ...  \\\n",
       "0  POINT (170.00000 -46.60000)      NZL         trawlers        213.0  ...   \n",
       "1  POINT (170.00000 -46.60000)      NZL         trawlers        213.0  ...   \n",
       "2  POINT (170.00000 -46.60000)      NZL         trawlers        213.0  ...   \n",
       "3  POINT (170.00000 -46.60000)      NZL         trawlers        213.0  ...   \n",
       "4  POINT (170.00000 -46.60000)      NZL         trawlers        213.0  ...   \n",
       "\n",
       "   MRGID_SOV1   SOVEREIGN1 ISO_TER1        X_1       Y_1  MRGID_EEZ  AREA_KM2  \\\n",
       "0      2227.0  New Zealand      NZL  136.49119 -41.49446     8455.0  180085.0   \n",
       "1      2227.0  New Zealand      NZL  136.49119 -41.49446     8455.0  180085.0   \n",
       "2      2227.0  New Zealand      NZL  136.49119 -41.49446     8455.0  180085.0   \n",
       "3      2227.0  New Zealand      NZL  136.49119 -41.49446     8455.0  180085.0   \n",
       "4      2227.0  New Zealand      NZL  136.49119 -41.49446     8455.0  180085.0   \n",
       "\n",
       "  ISO_SOV1  UN_SOV1  UN_TER1  \n",
       "0      NZL    554.0    554.0  \n",
       "1      NZL    554.0    554.0  \n",
       "2      NZL    554.0    554.0  \n",
       "3      NZL    554.0    554.0  \n",
       "4      NZL    554.0    554.0  \n",
       "\n",
       "[5 rows x 25 columns]"
      ]
     },
     "execution_count": 46,
     "metadata": {},
     "output_type": "execute_result"
    }
   ],
   "source": [
    "HoursTrawlnoNAN.head()"
   ]
  },
  {
   "cell_type": "code",
   "execution_count": 47,
   "id": "f5d40b34-6771-4cad-9b96-7025d4c01fac",
   "metadata": {},
   "outputs": [],
   "source": [
    "VesselsPresentCount = HoursTrawlnoNAN.groupby(['ISO_TER1'])['hours'].count()"
   ]
  },
  {
   "cell_type": "code",
   "execution_count": 50,
   "id": "f524c65d-18a3-4e5f-a0ab-092e9d17e7e6",
   "metadata": {},
   "outputs": [
    {
     "data": {
      "text/plain": [
       "ISO_TER1\n",
       "ABW      123\n",
       "AGO     8297\n",
       "AIA        1\n",
       "ALB      581\n",
       "ARE      115\n",
       "ARG    53444\n",
       "ATF      297\n",
       "AUS    10638\n",
       "BEL    29176\n",
       "BEN        2\n",
       "Name: hours, dtype: int64"
      ]
     },
     "execution_count": 50,
     "metadata": {},
     "output_type": "execute_result"
    }
   ],
   "source": [
    "VesselsPresentCount.head(10)"
   ]
  },
  {
   "cell_type": "code",
   "execution_count": 49,
   "id": "9a938646-f910-48e9-b434-583806f283dc",
   "metadata": {},
   "outputs": [
    {
     "data": {
      "text/plain": [
       "133"
      ]
     },
     "execution_count": 49,
     "metadata": {},
     "output_type": "execute_result"
    }
   ],
   "source": [
    "len(VesselsPresentCount)"
   ]
  },
  {
   "cell_type": "markdown",
   "id": "5eabc101-cf8c-46ed-ab82-6f08eb5bd3a4",
   "metadata": {},
   "source": [
    "### Get rid of points with 0 fishing hours from OG Trawl file and then group by and count # of vessels in each EEZ polygon"
   ]
  },
  {
   "cell_type": "code",
   "execution_count": 51,
   "id": "5cdd267d-4b36-4deb-a990-b9cd18888b2f",
   "metadata": {},
   "outputs": [],
   "source": [
    "FishingTrawlnoNAN = Trawl_w_territoryTable.dropna(subset=['fishing_hours'])"
   ]
  },
  {
   "cell_type": "code",
   "execution_count": 54,
   "id": "a3a86881-d2b6-47d0-ae49-7cfb81ab6f7c",
   "metadata": {},
   "outputs": [
    {
     "data": {
      "text/html": [
       "<div>\n",
       "<style scoped>\n",
       "    .dataframe tbody tr th:only-of-type {\n",
       "        vertical-align: middle;\n",
       "    }\n",
       "\n",
       "    .dataframe tbody tr th {\n",
       "        vertical-align: top;\n",
       "    }\n",
       "\n",
       "    .dataframe thead th {\n",
       "        text-align: right;\n",
       "    }\n",
       "</style>\n",
       "<table border=\"1\" class=\"dataframe\">\n",
       "  <thead>\n",
       "    <tr style=\"text-align: right;\">\n",
       "      <th></th>\n",
       "      <th>date</th>\n",
       "      <th>cell_ll_lat</th>\n",
       "      <th>cell_ll_lon</th>\n",
       "      <th>mmsi</th>\n",
       "      <th>hours</th>\n",
       "      <th>fishing_hours</th>\n",
       "      <th>geometry</th>\n",
       "      <th>flag_gfw</th>\n",
       "      <th>vessel_class_gfw</th>\n",
       "      <th>index_right</th>\n",
       "      <th>...</th>\n",
       "      <th>MRGID_SOV1</th>\n",
       "      <th>SOVEREIGN1</th>\n",
       "      <th>ISO_TER1</th>\n",
       "      <th>X_1</th>\n",
       "      <th>Y_1</th>\n",
       "      <th>MRGID_EEZ</th>\n",
       "      <th>AREA_KM2</th>\n",
       "      <th>ISO_SOV1</th>\n",
       "      <th>UN_SOV1</th>\n",
       "      <th>UN_TER1</th>\n",
       "    </tr>\n",
       "  </thead>\n",
       "  <tbody>\n",
       "    <tr>\n",
       "      <th>51</th>\n",
       "      <td>2017-05-29</td>\n",
       "      <td>-46.6</td>\n",
       "      <td>169.7</td>\n",
       "      <td>512002843</td>\n",
       "      <td>2.5919</td>\n",
       "      <td>2.5919</td>\n",
       "      <td>POINT (169.70000 -46.60000)</td>\n",
       "      <td>NZL</td>\n",
       "      <td>trawlers</td>\n",
       "      <td>213.0</td>\n",
       "      <td>...</td>\n",
       "      <td>2227.0</td>\n",
       "      <td>New Zealand</td>\n",
       "      <td>NZL</td>\n",
       "      <td>136.49119</td>\n",
       "      <td>-41.49446</td>\n",
       "      <td>8455.0</td>\n",
       "      <td>180085.0</td>\n",
       "      <td>NZL</td>\n",
       "      <td>554.0</td>\n",
       "      <td>554.0</td>\n",
       "    </tr>\n",
       "    <tr>\n",
       "      <th>72</th>\n",
       "      <td>2017-05-24</td>\n",
       "      <td>-46.6</td>\n",
       "      <td>169.6</td>\n",
       "      <td>512002843</td>\n",
       "      <td>0.2494</td>\n",
       "      <td>0.2494</td>\n",
       "      <td>POINT (169.60000 -46.60000)</td>\n",
       "      <td>NZL</td>\n",
       "      <td>trawlers</td>\n",
       "      <td>213.0</td>\n",
       "      <td>...</td>\n",
       "      <td>2227.0</td>\n",
       "      <td>New Zealand</td>\n",
       "      <td>NZL</td>\n",
       "      <td>136.49119</td>\n",
       "      <td>-41.49446</td>\n",
       "      <td>8455.0</td>\n",
       "      <td>180085.0</td>\n",
       "      <td>NZL</td>\n",
       "      <td>554.0</td>\n",
       "      <td>554.0</td>\n",
       "    </tr>\n",
       "  </tbody>\n",
       "</table>\n",
       "<p>2 rows × 25 columns</p>\n",
       "</div>"
      ],
      "text/plain": [
       "          date  cell_ll_lat  cell_ll_lon       mmsi   hours  fishing_hours  \\\n",
       "51  2017-05-29        -46.6        169.7  512002843  2.5919         2.5919   \n",
       "72  2017-05-24        -46.6        169.6  512002843  0.2494         0.2494   \n",
       "\n",
       "                       geometry flag_gfw vessel_class_gfw  index_right  ...  \\\n",
       "51  POINT (169.70000 -46.60000)      NZL         trawlers        213.0  ...   \n",
       "72  POINT (169.60000 -46.60000)      NZL         trawlers        213.0  ...   \n",
       "\n",
       "    MRGID_SOV1   SOVEREIGN1 ISO_TER1        X_1       Y_1  MRGID_EEZ  \\\n",
       "51      2227.0  New Zealand      NZL  136.49119 -41.49446     8455.0   \n",
       "72      2227.0  New Zealand      NZL  136.49119 -41.49446     8455.0   \n",
       "\n",
       "    AREA_KM2 ISO_SOV1  UN_SOV1  UN_TER1  \n",
       "51  180085.0      NZL    554.0    554.0  \n",
       "72  180085.0      NZL    554.0    554.0  \n",
       "\n",
       "[2 rows x 25 columns]"
      ]
     },
     "execution_count": 54,
     "metadata": {},
     "output_type": "execute_result"
    }
   ],
   "source": [
    "FishingTrawlnoNAN.head(2)"
   ]
  },
  {
   "cell_type": "code",
   "execution_count": 55,
   "id": "9a95789b-76b5-4450-80f7-32e3011cffd1",
   "metadata": {},
   "outputs": [],
   "source": [
    "VesselsFishingCount = FishingTrawlnoNAN.groupby(['ISO_TER1'])['fishing_hours'].count()"
   ]
  },
  {
   "cell_type": "code",
   "execution_count": 56,
   "id": "699efcb0-79a3-43c3-8f51-8bace860d01b",
   "metadata": {},
   "outputs": [
    {
     "data": {
      "text/plain": [
       "ISO_TER1\n",
       "ABW       51\n",
       "AGO     2336\n",
       "ALB      217\n",
       "ARE       18\n",
       "ARG     9965\n",
       "ATF       98\n",
       "AUS     4508\n",
       "BEL    15356\n",
       "BEN        1\n",
       "BGR     2662\n",
       "Name: fishing_hours, dtype: int64"
      ]
     },
     "execution_count": 56,
     "metadata": {},
     "output_type": "execute_result"
    }
   ],
   "source": [
    "VesselsFishingCount.head(10)"
   ]
  },
  {
   "cell_type": "code",
   "execution_count": 57,
   "id": "eabd1142-0571-456a-9883-1e1e122ff97f",
   "metadata": {},
   "outputs": [
    {
     "data": {
      "text/plain": [
       "108"
      ]
     },
     "execution_count": 57,
     "metadata": {},
     "output_type": "execute_result"
    }
   ],
   "source": [
    "len(VesselsFishingCount)"
   ]
  },
  {
   "cell_type": "markdown",
   "id": "707d8307-c66a-4bf2-8e05-4e5a435e597f",
   "metadata": {},
   "source": [
    "### Export remaining two dataframes as csvs"
   ]
  },
  {
   "cell_type": "code",
   "execution_count": 58,
   "id": "35da9fe1-0574-44ee-a619-7175d853367f",
   "metadata": {},
   "outputs": [],
   "source": [
    "VesselsFishingCount.to_csv('VesselsFishingCount.csv')"
   ]
  },
  {
   "cell_type": "code",
   "execution_count": 59,
   "id": "179ebef4-b60e-48a2-a20c-0a001d7c2c09",
   "metadata": {},
   "outputs": [],
   "source": [
    "VesselsPresentCount.to_csv('VesselsPresentCount.csv')"
   ]
  }
 ],
 "metadata": {
  "kernelspec": {
   "display_name": "Python 3 (ipykernel)",
   "language": "python",
   "name": "python3"
  },
  "language_info": {
   "codemirror_mode": {
    "name": "ipython",
    "version": 3
   },
   "file_extension": ".py",
   "mimetype": "text/x-python",
   "name": "python",
   "nbconvert_exporter": "python",
   "pygments_lexer": "ipython3",
   "version": "3.10.8"
  }
 },
 "nbformat": 4,
 "nbformat_minor": 5
}
